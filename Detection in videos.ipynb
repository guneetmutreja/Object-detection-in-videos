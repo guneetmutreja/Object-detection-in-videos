{
 "cells": [
  {
   "cell_type": "code",
   "execution_count": 1,
   "id": "eb46917e",
   "metadata": {},
   "outputs": [],
   "source": [
    "# ------------ imports -----------------------\n",
    "import os, json\n",
    "from arcgis.learn import (\n",
    "    prepare_data,\n",
    "    YOLOv3,\n",
    ")\n",
    "import cv2\n",
    "import matplotlib.pyplot as plt\n",
    "import time"
   ]
  },
  {
   "cell_type": "code",
   "execution_count": 2,
   "id": "52518b37",
   "metadata": {},
   "outputs": [
    {
     "name": "stdout",
     "output_type": "stream",
     "text": [
      "No prediction\n",
      "No prediction\n",
      "No prediction\n"
     ]
    }
   ],
   "source": [
    "# --------------- extract images from videos and object detection using YoloV3 ------------------------\n",
    "\n",
    "path_to_videos = 'D:/Video_YOLO/Videos_Batla_house'\n",
    "for path in os.listdir(path_to_videos):\n",
    "    full_path = os.path.join(path_to_videos, path)\n",
    "    if os.path.isfile(full_path):\n",
    "        vidpath = full_path\n",
    "        directory = vidpath.split(\".\")[0].split(\"\\\\\")[-1]\n",
    "        parent_dir = \"D:/Video_YOLO/images\"\n",
    "        pred_dir = \"D:/Video_YOLO/predictions\"\n",
    "        path = os.path.join(parent_dir, directory)\n",
    "        pred_path = os.path.join(pred_dir, directory)\n",
    "        os.mkdir(path)\n",
    "        data_path=path\n",
    "        os.mkdir(pred_path)\n",
    "\n",
    "        cap = cv2.VideoCapture(vidpath)\n",
    "        count = 0 \n",
    "        ret, frame = cap.read()\n",
    "        try:\n",
    "            while(1):\n",
    "                ret, frame = cap.read()\n",
    "                frame_name  = str(count)+\".jpeg\"\n",
    "                if count % 20 == 0:\n",
    "                    print(frame_name)\n",
    "                    cv2.imwrite(os.path.join(data_path,frame_name),frame)\n",
    "                count+=1\n",
    "        except:\n",
    "            print(\"Done\")\n",
    "\n",
    "        yolo = YOLOv3()\n",
    "        dataout = pred_path\n",
    "\n",
    "        for e,image in enumerate(os.listdir(data_path)):\n",
    "            try:\n",
    "                out = yolo.predict(os.path.join(data_path,image),threshold=0.4)\n",
    "                if len(out[0]) == 0:\n",
    "                    print(\"No prediction\")\n",
    "                else:\n",
    "                    test_img = cv2.imread(os.path.join(data_path,image))\n",
    "                    for index,(value,label,confidence) in enumerate(zip(out[0],out[1],out[2])):\n",
    "                        test_img = cv2.rectangle(test_img,\n",
    "                                                 (int(value[0]),\n",
    "                                                  int(value[1]),\n",
    "                                                  int(value[2]),\n",
    "                                                  int(value[3])),\n",
    "                                                 (0,0,255),\n",
    "                                                 4)\n",
    "                        textvalue = label\n",
    "                        cv2.putText(test_img,\n",
    "                                    textvalue,\n",
    "                                    (int(value[0]),\n",
    "                                     int(value[1])-10),\n",
    "                                    cv2.FONT_HERSHEY_SIMPLEX,\n",
    "                                    1.5,\n",
    "                                    (0,0,255),\n",
    "                                    2)\n",
    "                    cv2.imwrite(os.path.join(dataout,image),test_img)\n",
    "            except Exception as e:\n",
    "                print(e,\" ***** \")\n",
    "                continue"
   ]
  },
  {
   "cell_type": "code",
   "execution_count": 2,
   "id": "d48838f5",
   "metadata": {},
   "outputs": [
    {
     "data": {
      "text/html": [
       "\n",
       "    <div>\n",
       "        <style>\n",
       "            /* Turns off some styling */\n",
       "            progress {\n",
       "                /* gets rid of default border in Firefox and Opera. */\n",
       "                border: none;\n",
       "                /* Needs to be in here for Safari polyfill so background images work as expected. */\n",
       "                background-size: auto;\n",
       "            }\n",
       "            .progress-bar-interrupted, .progress-bar-interrupted::-webkit-progress-bar {\n",
       "                background: #F44336;\n",
       "            }\n",
       "        </style>\n",
       "      <progress value='9901' class='' max='9901' style='width:300px; height:20px; vertical-align: middle;'></progress>\n",
       "      100.00% [9901/9901 13:44<00:00]\n",
       "    </div>\n",
       "    "
      ],
      "text/plain": [
       "<IPython.core.display.HTML object>"
      ]
     },
     "metadata": {},
     "output_type": "display_data"
    },
    {
     "name": "stderr",
     "output_type": "stream",
     "text": [
      "C:\\Users\\gun10635\\Anaconda3\\envs\\timm_vikash\\lib\\site-packages\\arcgis\\learn\\models\\_yolov3_utils.py:340: UserWarning:\n",
      "\n",
      "The given NumPy array is not writeable, and PyTorch does not support non-writeable tensors. This means you can write to the underlying (supposedly non-writeable) NumPy array using the tensor. You may want to copy the array to protect its data or make it writeable before converting it to a tensor. This type of warning will be suppressed for the rest of this program. (Triggered internally at  ..\\torch\\csrc\\utils\\tensor_numpy.cpp:143.)\n",
      "\n"
     ]
    }
   ],
   "source": [
    "# -------------------- detection in videos using ArcGIS API for Python --------------------\n",
    "model = YOLOv3()\n",
    "model.predict_video(input_video_path=r\"D:\\Video_YOLO\\Videos_Batla_house\\VID_20220119_154606086.mp4\",metadata_file=r\"predictions_VID_20220119_154606086.csv\",threshold=0.4,\n",
    "                    visualize=True,\n",
    "                   visual_options={'color': (0, 0, 255), 'fontface': 0, 'show_labels': True, 'show_scores': True, 'thickness': 2})"
   ]
  },
  {
   "cell_type": "code",
   "execution_count": null,
   "id": "887081ea",
   "metadata": {},
   "outputs": [],
   "source": []
  }
 ],
 "metadata": {
  "kernelspec": {
   "display_name": "Python 3",
   "language": "python",
   "name": "python3"
  },
  "language_info": {
   "codemirror_mode": {
    "name": "ipython",
    "version": 3
   },
   "file_extension": ".py",
   "mimetype": "text/x-python",
   "name": "python",
   "nbconvert_exporter": "python",
   "pygments_lexer": "ipython3",
   "version": "3.8.12"
  }
 },
 "nbformat": 4,
 "nbformat_minor": 5
}
